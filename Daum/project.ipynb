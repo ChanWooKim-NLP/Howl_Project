{
 "cells": [
  {
   "cell_type": "code",
   "execution_count": 5,
   "id": "e5904006",
   "metadata": {},
   "outputs": [],
   "source": [
    "from selenium import webdriver\n",
    "from time import sleep"
   ]
  },
  {
   "cell_type": "code",
   "execution_count": 6,
   "id": "11eda9b4",
   "metadata": {},
   "outputs": [],
   "source": [
    "driver = webdriver.Chrome(executable_path = r'C:\\Users\\변정민\\Desktop\\chromedriver.exe')\n",
    "comments_list = []\n",
    "likes_list = []\n",
    "names_list = []"
   ]
  },
  {
   "cell_type": "code",
   "execution_count": 7,
   "id": "f1f132a1",
   "metadata": {},
   "outputs": [],
   "source": [
    "driver.get('https://search.daum.net/search?w=news&q=%EC%A4%91%EA%B5%AD&DA=PGD&spacing=0&p=1')\n",
    "count = 1\n",
    "page_num = 0"
   ]
  },
  {
   "cell_type": "code",
   "execution_count": 8,
   "id": "a2899e77",
   "metadata": {},
   "outputs": [
    {
     "name": "stdout",
     "output_type": "stream",
     "text": [
      "['', '-언론사 선택 기능-', '', '인동초', '', '🍭조성주', '', '진실과 정의', '', '꿈이있는자유'] ['우한바이러스에 전세계 인구감소', '짝짝짝', '코로나 초기시 사무총장 중국발 코로나 크게문제될것없다. 팬데믹까지 갈일아니다 라고 했던거 기억나네. 중국돈 처먹고 대놓고 중국편.', '너절한 문재인이가 제일 좋아하겠네... 젠장할~\\n\\n화이자, 모더나 가급적 천천히 들여오라고 할 것이고, 대신 중국 시노팜과 계약해서 빨리 들여오라고 지시 했을것 같은데~', '병주고 \\n약준다...'] ['0', '0', '0', '3', '4', '1', '1', '1', '6', '3', '1']\n",
      "['', '닉네임을 등록해 주세요', '', '영 퍼레이더', '', '영 퍼레이더', '', '하얀앙마'] ['참나 ~\\n그렇게 호들갑 서울에 떨어질가능성있다구 ...\\n욕이란 욕은 다하고 결국엔 아님 말고 이런식 ..\\n정말 서울로 떨어졌으면하는 바램이 있니?', '로껫잔해와  코로나를 연계시키지 말라네??\\n특정국가를 연상케 한다나 뭐라나??', '중국은  세계에 민폐를 저지르지 마라 나쁜놈들', '한국사람들 배아파서  로케트 떨어진다고 호들갑\\n로켓이 아니라 로켓 잔해물!!'] ['0', '0', '0', '0', '0', '0', '0', '2']\n",
      "[] [] []\n",
      "[] [] []\n",
      "[] [] []\n",
      "['', '열도폭격', '', '아름다움'] ['이게 뭔 기사냐 ?\\n\\n내용이 없잖아 ?', '자국 조선업 살리려고 고철배를 막 찍어내면 수리비가 더들지'] ['6', '1', '1', '6', '2']\n"
     ]
    }
   ],
   "source": [
    "while len(comments_list) < 10 and len(likes_list) < 20:\n",
    "    try:\n",
    "        if count == 11:\n",
    "            if page_num == 5:\n",
    "                count = 1\n",
    "                page = driver.find_element_by_xpath(f'// *[ @ id = \"newsColl\"] / div[4] / span / span[2] / a[5]')\n",
    "                page.click()\n",
    "            else:\n",
    "                count = 1\n",
    "                page_num += 1\n",
    "                page = driver.find_element_by_xpath(f'// *[ @ id = \"newsColl\"] / div[4] / span / span[2] / a[{page_num}]')\n",
    "                page.click()\n",
    "            \n",
    "            \n",
    "        link = driver.find_element_by_xpath(f'//*[@id=\"clusterResultUL\"]/li[{count}]/div[2]/div/span[1]/a')\n",
    "        link.click()\n",
    "        driver.switch_to.window(driver.window_handles[-1])\n",
    "        sleep(3)\n",
    "        \n",
    "        #찬반순 정렬\n",
    "        #arr = driver.find_elements_by_xpath('//*[@id=\"alex-area\"]/div/div/div/div[3]/ul[1]/li[1]/button/span/span[1]')\n",
    "        #arr.click()\n",
    "        #sleep(1)\n",
    "        \n",
    "        #댓글 더보기버튼 없을 때까지 클릭\n",
    "        try:\n",
    "            while driver.find_element_by_xpath('//*[@id=\"alex-area\"]/div/div/div/div[3]/div[3]/button').text !='':\n",
    "                driver.find_element_by_xpath('//*[@id=\"alex-area\"]/div/div/div/div[3]/div[3]/button').click()\n",
    "                sleep(3)\n",
    "        except:\n",
    "            pass\n",
    "        sleep(2)\n",
    "        \n",
    "        comment = driver.find_elements_by_class_name('desc_txt.font_size_17')\n",
    "        comment = [c.text for c in comment]\n",
    "        comments_list.extend(comment)\n",
    "        \n",
    "        like = driver.find_elements_by_class_name('num_txt')\n",
    "        like = [l.text for l in like]\n",
    "        likes_list.extend(like)\n",
    "        \n",
    "        name = driver.find_elements_by_class_name('link_nick')\n",
    "        name = [n.text for n in name]\n",
    "        names_list.extend(name)\n",
    "        \n",
    "        driver.close()\n",
    "        driver.switch_to.window(driver.window_handles[-1])\n",
    "        count += 1\n",
    "        print(name, comment, like)\n",
    "    except:\n",
    "        count += 1\n",
    "    sleep(3)"
   ]
  },
  {
   "cell_type": "code",
   "execution_count": 5,
   "id": "5eb7f501",
   "metadata": {},
   "outputs": [
    {
     "ename": "TypeError",
     "evalue": "'int' object is not iterable",
     "output_type": "error",
     "traceback": [
      "\u001b[1;31m---------------------------------------------------------------------------\u001b[0m",
      "\u001b[1;31mTypeError\u001b[0m                                 Traceback (most recent call last)",
      "\u001b[1;32m<ipython-input-5-51c8e94a4173>\u001b[0m in \u001b[0;36m<module>\u001b[1;34m\u001b[0m\n\u001b[1;32m----> 1\u001b[1;33m \u001b[1;32mfor\u001b[0m \u001b[0mi\u001b[0m \u001b[1;32min\u001b[0m \u001b[0mlen\u001b[0m\u001b[1;33m(\u001b[0m\u001b[0mcomments_list\u001b[0m\u001b[1;33m)\u001b[0m\u001b[1;33m:\u001b[0m\u001b[1;33m\u001b[0m\u001b[1;33m\u001b[0m\u001b[0m\n\u001b[0m\u001b[0;32m      2\u001b[0m     \u001b[0mcomments_list\u001b[0m \u001b[1;33m=\u001b[0m \u001b[0mcomments_list\u001b[0m\u001b[1;33m[\u001b[0m\u001b[0mi\u001b[0m\u001b[1;33m]\u001b[0m\u001b[1;33m.\u001b[0m\u001b[0mreplace\u001b[0m\u001b[1;33m(\u001b[0m\u001b[1;34m\"\\n\"\u001b[0m\u001b[1;33m,\u001b[0m \u001b[1;34m\" \"\u001b[0m\u001b[1;33m)\u001b[0m\u001b[1;33m\u001b[0m\u001b[1;33m\u001b[0m\u001b[0m\n",
      "\u001b[1;31mTypeError\u001b[0m: 'int' object is not iterable"
     ]
    }
   ],
   "source": [
    "for i in len(comments_list):\n",
    "    comments_list = comments_list[i].replace(\"\\n\", \" \")"
   ]
  },
  {
   "cell_type": "code",
   "execution_count": 6,
   "id": "34a1d48e",
   "metadata": {},
   "outputs": [
    {
     "ename": "AttributeError",
     "evalue": "'list' object has no attribute 'replace'",
     "output_type": "error",
     "traceback": [
      "\u001b[1;31m---------------------------------------------------------------------------\u001b[0m",
      "\u001b[1;31mAttributeError\u001b[0m                            Traceback (most recent call last)",
      "\u001b[1;32m<ipython-input-6-9663a0ab41f9>\u001b[0m in \u001b[0;36m<module>\u001b[1;34m\u001b[0m\n\u001b[1;32m----> 1\u001b[1;33m \u001b[0mcomments_list\u001b[0m \u001b[1;33m=\u001b[0m \u001b[0mcomments_list\u001b[0m\u001b[1;33m.\u001b[0m\u001b[0mreplace\u001b[0m\u001b[1;33m(\u001b[0m\u001b[1;34m\"\\n\"\u001b[0m\u001b[1;33m,\u001b[0m \u001b[1;34m\" \"\u001b[0m\u001b[1;33m)\u001b[0m\u001b[1;33m\u001b[0m\u001b[1;33m\u001b[0m\u001b[0m\n\u001b[0m",
      "\u001b[1;31mAttributeError\u001b[0m: 'list' object has no attribute 'replace'"
     ]
    }
   ],
   "source": [
    "comments_list = comments_list.replace(\"\\n\", \" \")"
   ]
  },
  {
   "cell_type": "code",
   "execution_count": 7,
   "id": "10deaa23",
   "metadata": {},
   "outputs": [
    {
     "ename": "ValueError",
     "evalue": "list.remove(x): x not in list",
     "output_type": "error",
     "traceback": [
      "\u001b[1;31m---------------------------------------------------------------------------\u001b[0m",
      "\u001b[1;31mValueError\u001b[0m                                Traceback (most recent call last)",
      "\u001b[1;32m<ipython-input-7-1ad76ab6bddb>\u001b[0m in \u001b[0;36m<module>\u001b[1;34m\u001b[0m\n\u001b[1;32m----> 1\u001b[1;33m \u001b[0mcomments_list\u001b[0m\u001b[1;33m.\u001b[0m\u001b[0mremove\u001b[0m\u001b[1;33m(\u001b[0m\u001b[1;34m\"\\n\"\u001b[0m\u001b[1;33m)\u001b[0m\u001b[1;33m\u001b[0m\u001b[1;33m\u001b[0m\u001b[0m\n\u001b[0m",
      "\u001b[1;31mValueError\u001b[0m: list.remove(x): x not in list"
     ]
    }
   ],
   "source": [
    "comments_list.remove(\"\\n\")"
   ]
  },
  {
   "cell_type": "code",
   "execution_count": null,
   "id": "b0bf74fb",
   "metadata": {},
   "outputs": [],
   "source": [
    "result = list(zip(comments_list, likes_list, names_list))"
   ]
  }
 ],
 "metadata": {
  "kernelspec": {
   "display_name": "Python 3",
   "language": "python",
   "name": "python3"
  },
  "language_info": {
   "codemirror_mode": {
    "name": "ipython",
    "version": 3
   },
   "file_extension": ".py",
   "mimetype": "text/x-python",
   "name": "python",
   "nbconvert_exporter": "python",
   "pygments_lexer": "ipython3",
   "version": "3.8.1"
  }
 },
 "nbformat": 4,
 "nbformat_minor": 5
}
